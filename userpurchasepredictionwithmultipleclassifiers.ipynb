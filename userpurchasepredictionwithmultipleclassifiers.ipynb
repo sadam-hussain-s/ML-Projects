{
 "cells": [
  {
   "cell_type": "code",
   "execution_count": 1,
   "id": "7ce402f0",
   "metadata": {
    "_cell_guid": "b1076dfc-b9ad-4769-8c92-a6c4dae69d19",
    "_uuid": "8f2839f25d086af736a60e9eeb907d3b93b6e0e5",
    "execution": {
     "iopub.execute_input": "2024-05-18T07:26:15.871222Z",
     "iopub.status.busy": "2024-05-18T07:26:15.870614Z",
     "iopub.status.idle": "2024-05-18T07:26:16.998187Z",
     "shell.execute_reply": "2024-05-18T07:26:16.997026Z"
    },
    "papermill": {
     "duration": 1.14314,
     "end_time": "2024-05-18T07:26:17.001251",
     "exception": false,
     "start_time": "2024-05-18T07:26:15.858111",
     "status": "completed"
    },
    "tags": []
   },
   "outputs": [
    {
     "name": "stdout",
     "output_type": "stream",
     "text": [
      "/kaggle/input/cvdcvd-vd/Social_Network_Ads.csv\n"
     ]
    }
   ],
   "source": [
    "# This Python 3 environment comes with many helpful analytics libraries installed\n",
    "# It is defined by the kaggle/python Docker image: https://github.com/kaggle/docker-python\n",
    "# For example, here's several helpful packages to load\n",
    "\n",
    "import numpy as np # linear algebra\n",
    "import pandas as pd # data processing, CSV file I/O (e.g. pd.read_csv)\n",
    "\n",
    "# Input data files are available in the read-only \"../input/\" directory\n",
    "# For example, running this (by clicking run or pressing Shift+Enter) will list all files under the input directory\n",
    "\n",
    "import os\n",
    "for dirname, _, filenames in os.walk('/kaggle/input'):\n",
    "    for filename in filenames:\n",
    "        print(os.path.join(dirname, filename))\n",
    "\n",
    "# You can write up to 20GB to the current directory (/kaggle/working/) that gets preserved as output when you create a version using \"Save & Run All\" \n",
    "# You can also write temporary files to /kaggle/temp/, but they won't be saved outside of the current session"
   ]
  },
  {
   "cell_type": "markdown",
   "id": "f3f41b45",
   "metadata": {
    "papermill": {
     "duration": 0.009385,
     "end_time": "2024-05-18T07:26:17.021109",
     "exception": false,
     "start_time": "2024-05-18T07:26:17.011724",
     "status": "completed"
    },
    "tags": []
   },
   "source": [
    "# load the dataset"
   ]
  },
  {
   "cell_type": "code",
   "execution_count": 2,
   "id": "0a2ca31f",
   "metadata": {
    "execution": {
     "iopub.execute_input": "2024-05-18T07:26:17.043253Z",
     "iopub.status.busy": "2024-05-18T07:26:17.042123Z",
     "iopub.status.idle": "2024-05-18T07:26:17.081865Z",
     "shell.execute_reply": "2024-05-18T07:26:17.080557Z"
    },
    "papermill": {
     "duration": 0.054471,
     "end_time": "2024-05-18T07:26:17.085109",
     "exception": false,
     "start_time": "2024-05-18T07:26:17.030638",
     "status": "completed"
    },
    "tags": []
   },
   "outputs": [
    {
     "data": {
      "text/html": [
       "<div>\n",
       "<style scoped>\n",
       "    .dataframe tbody tr th:only-of-type {\n",
       "        vertical-align: middle;\n",
       "    }\n",
       "\n",
       "    .dataframe tbody tr th {\n",
       "        vertical-align: top;\n",
       "    }\n",
       "\n",
       "    .dataframe thead th {\n",
       "        text-align: right;\n",
       "    }\n",
       "</style>\n",
       "<table border=\"1\" class=\"dataframe\">\n",
       "  <thead>\n",
       "    <tr style=\"text-align: right;\">\n",
       "      <th></th>\n",
       "      <th>User ID</th>\n",
       "      <th>Gender</th>\n",
       "      <th>Age</th>\n",
       "      <th>EstimatedSalary</th>\n",
       "      <th>Purchased</th>\n",
       "    </tr>\n",
       "  </thead>\n",
       "  <tbody>\n",
       "    <tr>\n",
       "      <th>0</th>\n",
       "      <td>15624510</td>\n",
       "      <td>Male</td>\n",
       "      <td>19</td>\n",
       "      <td>19000</td>\n",
       "      <td>0</td>\n",
       "    </tr>\n",
       "    <tr>\n",
       "      <th>1</th>\n",
       "      <td>15810944</td>\n",
       "      <td>Male</td>\n",
       "      <td>35</td>\n",
       "      <td>20000</td>\n",
       "      <td>0</td>\n",
       "    </tr>\n",
       "    <tr>\n",
       "      <th>2</th>\n",
       "      <td>15668575</td>\n",
       "      <td>Female</td>\n",
       "      <td>26</td>\n",
       "      <td>43000</td>\n",
       "      <td>0</td>\n",
       "    </tr>\n",
       "    <tr>\n",
       "      <th>3</th>\n",
       "      <td>15603246</td>\n",
       "      <td>Female</td>\n",
       "      <td>27</td>\n",
       "      <td>57000</td>\n",
       "      <td>0</td>\n",
       "    </tr>\n",
       "    <tr>\n",
       "      <th>4</th>\n",
       "      <td>15804002</td>\n",
       "      <td>Male</td>\n",
       "      <td>19</td>\n",
       "      <td>76000</td>\n",
       "      <td>0</td>\n",
       "    </tr>\n",
       "  </tbody>\n",
       "</table>\n",
       "</div>"
      ],
      "text/plain": [
       "    User ID  Gender  Age  EstimatedSalary  Purchased\n",
       "0  15624510    Male   19            19000          0\n",
       "1  15810944    Male   35            20000          0\n",
       "2  15668575  Female   26            43000          0\n",
       "3  15603246  Female   27            57000          0\n",
       "4  15804002    Male   19            76000          0"
      ]
     },
     "execution_count": 2,
     "metadata": {},
     "output_type": "execute_result"
    }
   ],
   "source": [
    "#already pandas library imported, so just load the data\n",
    "data = pd.read_csv('/kaggle/input/cvdcvd-vd/Social_Network_Ads.csv')\n",
    "data.head()"
   ]
  },
  {
   "cell_type": "code",
   "execution_count": 3,
   "id": "4e791522",
   "metadata": {
    "execution": {
     "iopub.execute_input": "2024-05-18T07:26:17.108035Z",
     "iopub.status.busy": "2024-05-18T07:26:17.106942Z",
     "iopub.status.idle": "2024-05-18T07:26:17.125932Z",
     "shell.execute_reply": "2024-05-18T07:26:17.124560Z"
    },
    "papermill": {
     "duration": 0.033831,
     "end_time": "2024-05-18T07:26:17.129025",
     "exception": false,
     "start_time": "2024-05-18T07:26:17.095194",
     "status": "completed"
    },
    "tags": []
   },
   "outputs": [
    {
     "data": {
      "text/plain": [
       "Purchased\n",
       "0    257\n",
       "1    143\n",
       "Name: count, dtype: int64"
      ]
     },
     "execution_count": 3,
     "metadata": {},
     "output_type": "execute_result"
    }
   ],
   "source": [
    "#check the distribution\n",
    "data['Purchased'].value_counts()"
   ]
  },
  {
   "cell_type": "code",
   "execution_count": 4,
   "id": "0077905a",
   "metadata": {
    "execution": {
     "iopub.execute_input": "2024-05-18T07:26:17.152354Z",
     "iopub.status.busy": "2024-05-18T07:26:17.151414Z",
     "iopub.status.idle": "2024-05-18T07:26:17.452839Z",
     "shell.execute_reply": "2024-05-18T07:26:17.451491Z"
    },
    "papermill": {
     "duration": 0.3164,
     "end_time": "2024-05-18T07:26:17.455697",
     "exception": false,
     "start_time": "2024-05-18T07:26:17.139297",
     "status": "completed"
    },
    "tags": []
   },
   "outputs": [
    {
     "data": {
      "image/png": "[encoded data removed]",
      "text/plain": [
       "<Figure size 1000x500 with 1 Axes>"
      ]
     },
     "metadata": {},
     "output_type": "display_data"
    }
   ],
   "source": [
    "import matplotlib.pyplot as plt\n",
    "plt.figure(figsize=(10,5))\n",
    "data['Purchased'].value_counts().plot(kind='bar')\n",
    "plt.xticks([0,1],['Not Purchased','Purchased'])\n",
    "plt.ylabel('No.of.People')\n",
    "plt.title('Distribution of Class')\n",
    "plt.show()\n"
   ]
  },
  {
   "cell_type": "code",
   "execution_count": 5,
   "id": "5fa68aa3",
   "metadata": {
    "execution": {
     "iopub.execute_input": "2024-05-18T07:26:17.480499Z",
     "iopub.status.busy": "2024-05-18T07:26:17.479559Z",
     "iopub.status.idle": "2024-05-18T07:26:17.490046Z",
     "shell.execute_reply": "2024-05-18T07:26:17.488784Z"
    },
    "papermill": {
     "duration": 0.026393,
     "end_time": "2024-05-18T07:26:17.492746",
     "exception": false,
     "start_time": "2024-05-18T07:26:17.466353",
     "status": "completed"
    },
    "tags": []
   },
   "outputs": [
    {
     "data": {
      "text/plain": [
       "User ID            0\n",
       "Gender             0\n",
       "Age                0\n",
       "EstimatedSalary    0\n",
       "Purchased          0\n",
       "dtype: int64"
      ]
     },
     "execution_count": 5,
     "metadata": {},
     "output_type": "execute_result"
    }
   ],
   "source": [
    "#Check, is there any null data or not\n",
    "data.isnull().sum()"
   ]
  },
  {
   "cell_type": "code",
   "execution_count": 6,
   "id": "c17ceece",
   "metadata": {
    "execution": {
     "iopub.execute_input": "2024-05-18T07:26:17.516949Z",
     "iopub.status.busy": "2024-05-18T07:26:17.515997Z",
     "iopub.status.idle": "2024-05-18T07:26:17.537182Z",
     "shell.execute_reply": "2024-05-18T07:26:17.535912Z"
    },
    "papermill": {
     "duration": 0.036652,
     "end_time": "2024-05-18T07:26:17.540092",
     "exception": false,
     "start_time": "2024-05-18T07:26:17.503440",
     "status": "completed"
    },
    "tags": []
   },
   "outputs": [
    {
     "name": "stdout",
     "output_type": "stream",
     "text": [
      "<class 'pandas.core.frame.DataFrame'>\n",
      "RangeIndex: 400 entries, 0 to 399\n",
      "Data columns (total 5 columns):\n",
      " #   Column           Non-Null Count  Dtype \n",
      "---  ------           --------------  ----- \n",
      " 0   User ID          400 non-null    int64 \n",
      " 1   Gender           400 non-null    object\n",
      " 2   Age              400 non-null    int64 \n",
      " 3   EstimatedSalary  400 non-null    int64 \n",
      " 4   Purchased        400 non-null    int64 \n",
      "dtypes: int64(4), object(1)\n",
      "memory usage: 15.8+ KB\n"
     ]
    }
   ],
   "source": [
    "data.info()"
   ]
  },
  {
   "cell_type": "code",
   "execution_count": 7,
   "id": "778bcf48",
   "metadata": {
    "execution": {
     "iopub.execute_input": "2024-05-18T07:26:17.566319Z",
     "iopub.status.busy": "2024-05-18T07:26:17.565420Z",
     "iopub.status.idle": "2024-05-18T07:26:17.593132Z",
     "shell.execute_reply": "2024-05-18T07:26:17.591990Z"
    },
    "papermill": {
     "duration": 0.043166,
     "end_time": "2024-05-18T07:26:17.595872",
     "exception": false,
     "start_time": "2024-05-18T07:26:17.552706",
     "status": "completed"
    },
    "tags": []
   },
   "outputs": [
    {
     "data": {
      "text/html": [
       "<div>\n",
       "<style scoped>\n",
       "    .dataframe tbody tr th:only-of-type {\n",
       "        vertical-align: middle;\n",
       "    }\n",
       "\n",
       "    .dataframe tbody tr th {\n",
       "        vertical-align: top;\n",
       "    }\n",
       "\n",
       "    .dataframe thead th {\n",
       "        text-align: right;\n",
       "    }\n",
       "</style>\n",
       "<table border=\"1\" class=\"dataframe\">\n",
       "  <thead>\n",
       "    <tr style=\"text-align: right;\">\n",
       "      <th></th>\n",
       "      <th>User ID</th>\n",
       "      <th>Age</th>\n",
       "      <th>EstimatedSalary</th>\n",
       "      <th>Purchased</th>\n",
       "    </tr>\n",
       "  </thead>\n",
       "  <tbody>\n",
       "    <tr>\n",
       "      <th>count</th>\n",
       "      <td>4.000000e+02</td>\n",
       "      <td>400.000000</td>\n",
       "      <td>400.000000</td>\n",
       "      <td>400.000000</td>\n",
       "    </tr>\n",
       "    <tr>\n",
       "      <th>mean</th>\n",
       "      <td>1.569154e+07</td>\n",
       "      <td>37.655000</td>\n",
       "      <td>69742.500000</td>\n",
       "      <td>0.357500</td>\n",
       "    </tr>\n",
       "    <tr>\n",
       "      <th>std</th>\n",
       "      <td>7.165832e+04</td>\n",
       "      <td>10.482877</td>\n",
       "      <td>34096.960282</td>\n",
       "      <td>0.479864</td>\n",
       "    </tr>\n",
       "    <tr>\n",
       "      <th>min</th>\n",
       "      <td>1.556669e+07</td>\n",
       "      <td>18.000000</td>\n",
       "      <td>15000.000000</td>\n",
       "      <td>0.000000</td>\n",
       "    </tr>\n",
       "    <tr>\n",
       "      <th>25%</th>\n",
       "      <td>1.562676e+07</td>\n",
       "      <td>29.750000</td>\n",
       "      <td>43000.000000</td>\n",
       "      <td>0.000000</td>\n",
       "    </tr>\n",
       "    <tr>\n",
       "      <th>50%</th>\n",
       "      <td>1.569434e+07</td>\n",
       "      <td>37.000000</td>\n",
       "      <td>70000.000000</td>\n",
       "      <td>0.000000</td>\n",
       "    </tr>\n",
       "    <tr>\n",
       "      <th>75%</th>\n",
       "      <td>1.575036e+07</td>\n",
       "      <td>46.000000</td>\n",
       "      <td>88000.000000</td>\n",
       "      <td>1.000000</td>\n",
       "    </tr>\n",
       "    <tr>\n",
       "      <th>max</th>\n",
       "      <td>1.581524e+07</td>\n",
       "      <td>60.000000</td>\n",
       "      <td>150000.000000</td>\n",
       "      <td>1.000000</td>\n",
       "    </tr>\n",
       "  </tbody>\n",
       "</table>\n",
       "</div>"
      ],
      "text/plain": [
       "            User ID         Age  EstimatedSalary   Purchased\n",
       "count  4.000000e+02  400.000000       400.000000  400.000000\n",
       "mean   1.569154e+07   37.655000     69742.500000    0.357500\n",
       "std    7.165832e+04   10.482877     34096.960282    0.479864\n",
       "min    1.556669e+07   18.000000     15000.000000    0.000000\n",
       "25%    1.562676e+07   29.750000     43000.000000    0.000000\n",
       "50%    1.569434e+07   37.000000     70000.000000    0.000000\n",
       "75%    1.575036e+07   46.000000     88000.000000    1.000000\n",
       "max    1.581524e+07   60.000000    150000.000000    1.000000"
      ]
     },
     "execution_count": 7,
     "metadata": {},
     "output_type": "execute_result"
    }
   ],
   "source": [
    "data.describe()"
   ]
  },
  {
   "cell_type": "code",
   "execution_count": 8,
   "id": "4c0885a1",
   "metadata": {
    "execution": {
     "iopub.execute_input": "2024-05-18T07:26:17.620763Z",
     "iopub.status.busy": "2024-05-18T07:26:17.619975Z",
     "iopub.status.idle": "2024-05-18T07:26:17.629367Z",
     "shell.execute_reply": "2024-05-18T07:26:17.627874Z"
    },
    "papermill": {
     "duration": 0.025955,
     "end_time": "2024-05-18T07:26:17.632971",
     "exception": false,
     "start_time": "2024-05-18T07:26:17.607016",
     "status": "completed"
    },
    "tags": []
   },
   "outputs": [],
   "source": [
    "#split the independent and dependent variables\n",
    "x = data.iloc[:,1:-1]\n",
    "y = data.iloc[:,-1]"
   ]
  },
  {
   "cell_type": "code",
   "execution_count": 9,
   "id": "99264d7e",
   "metadata": {
    "execution": {
     "iopub.execute_input": "2024-05-18T07:26:17.657867Z",
     "iopub.status.busy": "2024-05-18T07:26:17.657275Z",
     "iopub.status.idle": "2024-05-18T07:26:17.676970Z",
     "shell.execute_reply": "2024-05-18T07:26:17.675523Z"
    },
    "papermill": {
     "duration": 0.035522,
     "end_time": "2024-05-18T07:26:17.679760",
     "exception": false,
     "start_time": "2024-05-18T07:26:17.644238",
     "status": "completed"
    },
    "tags": []
   },
   "outputs": [
    {
     "data": {
      "text/html": [
       "<div>\n",
       "<style scoped>\n",
       "    .dataframe tbody tr th:only-of-type {\n",
       "        vertical-align: middle;\n",
       "    }\n",
       "\n",
       "    .dataframe tbody tr th {\n",
       "        vertical-align: top;\n",
       "    }\n",
       "\n",
       "    .dataframe thead th {\n",
       "        text-align: right;\n",
       "    }\n",
       "</style>\n",
       "<table border=\"1\" class=\"dataframe\">\n",
       "  <thead>\n",
       "    <tr style=\"text-align: right;\">\n",
       "      <th></th>\n",
       "      <th>Gender</th>\n",
       "      <th>Age</th>\n",
       "      <th>EstimatedSalary</th>\n",
       "    </tr>\n",
       "  </thead>\n",
       "  <tbody>\n",
       "    <tr>\n",
       "      <th>0</th>\n",
       "      <td>Male</td>\n",
       "      <td>19</td>\n",
       "      <td>19000</td>\n",
       "    </tr>\n",
       "    <tr>\n",
       "      <th>1</th>\n",
       "      <td>Male</td>\n",
       "      <td>35</td>\n",
       "      <td>20000</td>\n",
       "    </tr>\n",
       "    <tr>\n",
       "      <th>2</th>\n",
       "      <td>Female</td>\n",
       "      <td>26</td>\n",
       "      <td>43000</td>\n",
       "    </tr>\n",
       "    <tr>\n",
       "      <th>3</th>\n",
       "      <td>Female</td>\n",
       "      <td>27</td>\n",
       "      <td>57000</td>\n",
       "    </tr>\n",
       "    <tr>\n",
       "      <th>4</th>\n",
       "      <td>Male</td>\n",
       "      <td>19</td>\n",
       "      <td>76000</td>\n",
       "    </tr>\n",
       "    <tr>\n",
       "      <th>...</th>\n",
       "      <td>...</td>\n",
       "      <td>...</td>\n",
       "      <td>...</td>\n",
       "    </tr>\n",
       "    <tr>\n",
       "      <th>395</th>\n",
       "      <td>Female</td>\n",
       "      <td>46</td>\n",
       "      <td>41000</td>\n",
       "    </tr>\n",
       "    <tr>\n",
       "      <th>396</th>\n",
       "      <td>Male</td>\n",
       "      <td>51</td>\n",
       "      <td>23000</td>\n",
       "    </tr>\n",
       "    <tr>\n",
       "      <th>397</th>\n",
       "      <td>Female</td>\n",
       "      <td>50</td>\n",
       "      <td>20000</td>\n",
       "    </tr>\n",
       "    <tr>\n",
       "      <th>398</th>\n",
       "      <td>Male</td>\n",
       "      <td>36</td>\n",
       "      <td>33000</td>\n",
       "    </tr>\n",
       "    <tr>\n",
       "      <th>399</th>\n",
       "      <td>Female</td>\n",
       "      <td>49</td>\n",
       "      <td>36000</td>\n",
       "    </tr>\n",
       "  </tbody>\n",
       "</table>\n",
       "<p>400 rows × 3 columns</p>\n",
       "</div>"
      ],
      "text/plain": [
       "     Gender  Age  EstimatedSalary\n",
       "0      Male   19            19000\n",
       "1      Male   35            20000\n",
       "2    Female   26            43000\n",
       "3    Female   27            57000\n",
       "4      Male   19            76000\n",
       "..      ...  ...              ...\n",
       "395  Female   46            41000\n",
       "396    Male   51            23000\n",
       "397  Female   50            20000\n",
       "398    Male   36            33000\n",
       "399  Female   49            36000\n",
       "\n",
       "[400 rows x 3 columns]"
      ]
     },
     "execution_count": 9,
     "metadata": {},
     "output_type": "execute_result"
    }
   ],
   "source": [
    "x"
   ]
  },
  {
   "cell_type": "code",
   "execution_count": 10,
   "id": "e912c49f",
   "metadata": {
    "execution": {
     "iopub.execute_input": "2024-05-18T07:26:17.705778Z",
     "iopub.status.busy": "2024-05-18T07:26:17.705330Z",
     "iopub.status.idle": "2024-05-18T07:26:17.715130Z",
     "shell.execute_reply": "2024-05-18T07:26:17.713695Z"
    },
    "papermill": {
     "duration": 0.026041,
     "end_time": "2024-05-18T07:26:17.718003",
     "exception": false,
     "start_time": "2024-05-18T07:26:17.691962",
     "status": "completed"
    },
    "tags": []
   },
   "outputs": [
    {
     "data": {
      "text/plain": [
       "0      0\n",
       "1      0\n",
       "2      0\n",
       "3      0\n",
       "4      0\n",
       "      ..\n",
       "395    1\n",
       "396    1\n",
       "397    1\n",
       "398    0\n",
       "399    1\n",
       "Name: Purchased, Length: 400, dtype: int64"
      ]
     },
     "execution_count": 10,
     "metadata": {},
     "output_type": "execute_result"
    }
   ],
   "source": [
    "y"
   ]
  },
  {
   "cell_type": "code",
   "execution_count": 11,
   "id": "a41ae3d2",
   "metadata": {
    "execution": {
     "iopub.execute_input": "2024-05-18T07:26:17.743826Z",
     "iopub.status.busy": "2024-05-18T07:26:17.743357Z",
     "iopub.status.idle": "2024-05-18T07:26:17.750395Z",
     "shell.execute_reply": "2024-05-18T07:26:17.749205Z"
    },
    "papermill": {
     "duration": 0.023893,
     "end_time": "2024-05-18T07:26:17.753613",
     "exception": false,
     "start_time": "2024-05-18T07:26:17.729720",
     "status": "completed"
    },
    "tags": []
   },
   "outputs": [
    {
     "data": {
      "text/plain": [
       "((400, 3), (400,))"
      ]
     },
     "execution_count": 11,
     "metadata": {},
     "output_type": "execute_result"
    }
   ],
   "source": [
    "x.shape, y.shape"
   ]
  },
  {
   "cell_type": "markdown",
   "id": "52154d6f",
   "metadata": {
    "papermill": {
     "duration": 0.011356,
     "end_time": "2024-05-18T07:26:17.776417",
     "exception": false,
     "start_time": "2024-05-18T07:26:17.765061",
     "status": "completed"
    },
    "tags": []
   },
   "source": [
    "# Data Preprocessing Phase "
   ]
  },
  {
   "cell_type": "code",
   "execution_count": 12,
   "id": "8f01b1a5",
   "metadata": {
    "execution": {
     "iopub.execute_input": "2024-05-18T07:26:17.802794Z",
     "iopub.status.busy": "2024-05-18T07:26:17.802319Z",
     "iopub.status.idle": "2024-05-18T07:26:17.816195Z",
     "shell.execute_reply": "2024-05-18T07:26:17.815168Z"
    },
    "papermill": {
     "duration": 0.030569,
     "end_time": "2024-05-18T07:26:17.818898",
     "exception": false,
     "start_time": "2024-05-18T07:26:17.788329",
     "status": "completed"
    },
    "tags": []
   },
   "outputs": [
    {
     "data": {
      "text/html": [
       "<div>\n",
       "<style scoped>\n",
       "    .dataframe tbody tr th:only-of-type {\n",
       "        vertical-align: middle;\n",
       "    }\n",
       "\n",
       "    .dataframe tbody tr th {\n",
       "        vertical-align: top;\n",
       "    }\n",
       "\n",
       "    .dataframe thead th {\n",
       "        text-align: right;\n",
       "    }\n",
       "</style>\n",
       "<table border=\"1\" class=\"dataframe\">\n",
       "  <thead>\n",
       "    <tr style=\"text-align: right;\">\n",
       "      <th></th>\n",
       "      <th>Male</th>\n",
       "    </tr>\n",
       "  </thead>\n",
       "  <tbody>\n",
       "    <tr>\n",
       "      <th>0</th>\n",
       "      <td>1</td>\n",
       "    </tr>\n",
       "    <tr>\n",
       "      <th>1</th>\n",
       "      <td>1</td>\n",
       "    </tr>\n",
       "    <tr>\n",
       "      <th>2</th>\n",
       "      <td>0</td>\n",
       "    </tr>\n",
       "    <tr>\n",
       "      <th>3</th>\n",
       "      <td>0</td>\n",
       "    </tr>\n",
       "    <tr>\n",
       "      <th>4</th>\n",
       "      <td>1</td>\n",
       "    </tr>\n",
       "    <tr>\n",
       "      <th>...</th>\n",
       "      <td>...</td>\n",
       "    </tr>\n",
       "    <tr>\n",
       "      <th>395</th>\n",
       "      <td>0</td>\n",
       "    </tr>\n",
       "    <tr>\n",
       "      <th>396</th>\n",
       "      <td>1</td>\n",
       "    </tr>\n",
       "    <tr>\n",
       "      <th>397</th>\n",
       "      <td>0</td>\n",
       "    </tr>\n",
       "    <tr>\n",
       "      <th>398</th>\n",
       "      <td>1</td>\n",
       "    </tr>\n",
       "    <tr>\n",
       "      <th>399</th>\n",
       "      <td>0</td>\n",
       "    </tr>\n",
       "  </tbody>\n",
       "</table>\n",
       "<p>400 rows × 1 columns</p>\n",
       "</div>"
      ],
      "text/plain": [
       "     Male\n",
       "0       1\n",
       "1       1\n",
       "2       0\n",
       "3       0\n",
       "4       1\n",
       "..    ...\n",
       "395     0\n",
       "396     1\n",
       "397     0\n",
       "398     1\n",
       "399     0\n",
       "\n",
       "[400 rows x 1 columns]"
      ]
     },
     "execution_count": 12,
     "metadata": {},
     "output_type": "execute_result"
    }
   ],
   "source": [
    "#Encode the Gender field\n",
    "encoded_gender=pd.get_dummies(data=x['Gender'],drop_first=True,dtype='int')\n",
    "encoded_gender"
   ]
  },
  {
   "cell_type": "code",
   "execution_count": 13,
   "id": "b03c1acd",
   "metadata": {
    "execution": {
     "iopub.execute_input": "2024-05-18T07:26:17.847881Z",
     "iopub.status.busy": "2024-05-18T07:26:17.847182Z",
     "iopub.status.idle": "2024-05-18T07:26:17.866072Z",
     "shell.execute_reply": "2024-05-18T07:26:17.864420Z"
    },
    "papermill": {
     "duration": 0.03803,
     "end_time": "2024-05-18T07:26:17.868955",
     "exception": false,
     "start_time": "2024-05-18T07:26:17.830925",
     "status": "completed"
    },
    "tags": []
   },
   "outputs": [
    {
     "data": {
      "text/html": [
       "<div>\n",
       "<style scoped>\n",
       "    .dataframe tbody tr th:only-of-type {\n",
       "        vertical-align: middle;\n",
       "    }\n",
       "\n",
       "    .dataframe tbody tr th {\n",
       "        vertical-align: top;\n",
       "    }\n",
       "\n",
       "    .dataframe thead th {\n",
       "        text-align: right;\n",
       "    }\n",
       "</style>\n",
       "<table border=\"1\" class=\"dataframe\">\n",
       "  <thead>\n",
       "    <tr style=\"text-align: right;\">\n",
       "      <th></th>\n",
       "      <th>Age</th>\n",
       "      <th>EstimatedSalary</th>\n",
       "      <th>Male</th>\n",
       "    </tr>\n",
       "  </thead>\n",
       "  <tbody>\n",
       "    <tr>\n",
       "      <th>0</th>\n",
       "      <td>19</td>\n",
       "      <td>19000</td>\n",
       "      <td>1</td>\n",
       "    </tr>\n",
       "    <tr>\n",
       "      <th>1</th>\n",
       "      <td>35</td>\n",
       "      <td>20000</td>\n",
       "      <td>1</td>\n",
       "    </tr>\n",
       "    <tr>\n",
       "      <th>2</th>\n",
       "      <td>26</td>\n",
       "      <td>43000</td>\n",
       "      <td>0</td>\n",
       "    </tr>\n",
       "    <tr>\n",
       "      <th>3</th>\n",
       "      <td>27</td>\n",
       "      <td>57000</td>\n",
       "      <td>0</td>\n",
       "    </tr>\n",
       "    <tr>\n",
       "      <th>4</th>\n",
       "      <td>19</td>\n",
       "      <td>76000</td>\n",
       "      <td>1</td>\n",
       "    </tr>\n",
       "    <tr>\n",
       "      <th>...</th>\n",
       "      <td>...</td>\n",
       "      <td>...</td>\n",
       "      <td>...</td>\n",
       "    </tr>\n",
       "    <tr>\n",
       "      <th>395</th>\n",
       "      <td>46</td>\n",
       "      <td>41000</td>\n",
       "      <td>0</td>\n",
       "    </tr>\n",
       "    <tr>\n",
       "      <th>396</th>\n",
       "      <td>51</td>\n",
       "      <td>23000</td>\n",
       "      <td>1</td>\n",
       "    </tr>\n",
       "    <tr>\n",
       "      <th>397</th>\n",
       "      <td>50</td>\n",
       "      <td>20000</td>\n",
       "      <td>0</td>\n",
       "    </tr>\n",
       "    <tr>\n",
       "      <th>398</th>\n",
       "      <td>36</td>\n",
       "      <td>33000</td>\n",
       "      <td>1</td>\n",
       "    </tr>\n",
       "    <tr>\n",
       "      <th>399</th>\n",
       "      <td>49</td>\n",
       "      <td>36000</td>\n",
       "      <td>0</td>\n",
       "    </tr>\n",
       "  </tbody>\n",
       "</table>\n",
       "<p>400 rows × 3 columns</p>\n",
       "</div>"
      ],
      "text/plain": [
       "     Age  EstimatedSalary  Male\n",
       "0     19            19000     1\n",
       "1     35            20000     1\n",
       "2     26            43000     0\n",
       "3     27            57000     0\n",
       "4     19            76000     1\n",
       "..   ...              ...   ...\n",
       "395   46            41000     0\n",
       "396   51            23000     1\n",
       "397   50            20000     0\n",
       "398   36            33000     1\n",
       "399   49            36000     0\n",
       "\n",
       "[400 rows x 3 columns]"
      ]
     },
     "execution_count": 13,
     "metadata": {},
     "output_type": "execute_result"
    }
   ],
   "source": [
    "x['Male']=encoded_gender\n",
    "x=x.drop('Gender',axis=1)\n",
    "x"
   ]
  },
  {
   "cell_type": "code",
   "execution_count": 14,
   "id": "69fb22c5",
   "metadata": {
    "execution": {
     "iopub.execute_input": "2024-05-18T07:26:17.895379Z",
     "iopub.status.busy": "2024-05-18T07:26:17.894918Z",
     "iopub.status.idle": "2024-05-18T07:26:19.231271Z",
     "shell.execute_reply": "2024-05-18T07:26:19.229657Z"
    },
    "papermill": {
     "duration": 1.353695,
     "end_time": "2024-05-18T07:26:19.234520",
     "exception": false,
     "start_time": "2024-05-18T07:26:17.880825",
     "status": "completed"
    },
    "tags": []
   },
   "outputs": [
    {
     "data": {
      "text/plain": [
       "array([[-1.78179743, -1.49004624,  1.02020406],\n",
       "       [-0.25358736, -1.46068138,  1.02020406],\n",
       "       [-1.11320552, -0.78528968, -0.98019606],\n",
       "       ...,\n",
       "       [ 1.17910958, -1.46068138, -0.98019606],\n",
       "       [-0.15807423, -1.07893824,  1.02020406],\n",
       "       [ 1.08359645, -0.99084367, -0.98019606]])"
      ]
     },
     "execution_count": 14,
     "metadata": {},
     "output_type": "execute_result"
    }
   ],
   "source": [
    "from sklearn.preprocessing import StandardScaler\n",
    "\n",
    "sc=StandardScaler()\n",
    "x=sc.fit_transform(x)\n",
    "x"
   ]
  },
  {
   "cell_type": "code",
   "execution_count": 15,
   "id": "9dbf1cb9",
   "metadata": {
    "execution": {
     "iopub.execute_input": "2024-05-18T07:26:19.260906Z",
     "iopub.status.busy": "2024-05-18T07:26:19.260380Z",
     "iopub.status.idle": "2024-05-18T07:26:19.822664Z",
     "shell.execute_reply": "2024-05-18T07:26:19.821155Z"
    },
    "papermill": {
     "duration": 0.57915,
     "end_time": "2024-05-18T07:26:19.825834",
     "exception": false,
     "start_time": "2024-05-18T07:26:19.246684",
     "status": "completed"
    },
    "tags": []
   },
   "outputs": [],
   "source": [
    "from sklearn.linear_model import LogisticRegression\n",
    "from sklearn.neighbors import KNeighborsClassifier\n",
    "from sklearn.svm import SVC\n",
    "from sklearn.tree import DecisionTreeClassifier\n",
    "from sklearn.ensemble import RandomForestClassifier\n",
    "from sklearn.naive_bayes import GaussianNB"
   ]
  },
  {
   "cell_type": "markdown",
   "id": "e19350fc",
   "metadata": {
    "papermill": {
     "duration": 0.013745,
     "end_time": "2024-05-18T07:26:19.851798",
     "exception": false,
     "start_time": "2024-05-18T07:26:19.838053",
     "status": "completed"
    },
    "tags": []
   },
   "source": [
    "# Create the models to predict"
   ]
  },
  {
   "cell_type": "code",
   "execution_count": 16,
   "id": "f393ec71",
   "metadata": {
    "execution": {
     "iopub.execute_input": "2024-05-18T07:26:19.877937Z",
     "iopub.status.busy": "2024-05-18T07:26:19.877397Z",
     "iopub.status.idle": "2024-05-18T07:26:19.885825Z",
     "shell.execute_reply": "2024-05-18T07:26:19.884205Z"
    },
    "papermill": {
     "duration": 0.024661,
     "end_time": "2024-05-18T07:26:19.888457",
     "exception": false,
     "start_time": "2024-05-18T07:26:19.863796",
     "status": "completed"
    },
    "tags": []
   },
   "outputs": [],
   "source": [
    "classifers={\n",
    "    'Logistics Regression': LogisticRegression(),\n",
    "    'K Nearest Neighbors Classifier':KNeighborsClassifier(n_neighbors = 5, metric = 'minkowski', p = 2),\n",
    "    'Linear SVC':SVC(kernel = 'linear'),\n",
    "    'rbf SVC':SVC(kernel = 'rbf'),\n",
    "    'Decision Tree Classifier': DecisionTreeClassifier(criterion = 'entropy'),\n",
    "    'Random Forest Classifier':RandomForestClassifier(n_estimators = 10, criterion = 'entropy'),\n",
    "    'Navies Bayes Classifier': GaussianNB()\n",
    "}\n",
    "\n"
   ]
  },
  {
   "cell_type": "code",
   "execution_count": 17,
   "id": "eeafd048",
   "metadata": {
    "execution": {
     "iopub.execute_input": "2024-05-18T07:26:19.915690Z",
     "iopub.status.busy": "2024-05-18T07:26:19.915212Z",
     "iopub.status.idle": "2024-05-18T07:26:19.929420Z",
     "shell.execute_reply": "2024-05-18T07:26:19.928057Z"
    },
    "papermill": {
     "duration": 0.030928,
     "end_time": "2024-05-18T07:26:19.931974",
     "exception": false,
     "start_time": "2024-05-18T07:26:19.901046",
     "status": "completed"
    },
    "tags": []
   },
   "outputs": [
    {
     "data": {
      "text/plain": [
       "((268, 3), (132, 3), (268,), (132,))"
      ]
     },
     "execution_count": 17,
     "metadata": {},
     "output_type": "execute_result"
    }
   ],
   "source": [
    "from sklearn.model_selection import train_test_split\n",
    "x_train,x_test,y_train,y_test = train_test_split(x,y,test_size=0.33,random_state=0)\n",
    "x_train.shape, x_test.shape,y_train.shape,y_test.shape"
   ]
  },
  {
   "cell_type": "code",
   "execution_count": 18,
   "id": "cf2135d1",
   "metadata": {
    "execution": {
     "iopub.execute_input": "2024-05-18T07:26:19.958596Z",
     "iopub.status.busy": "2024-05-18T07:26:19.958099Z",
     "iopub.status.idle": "2024-05-18T07:26:19.964931Z",
     "shell.execute_reply": "2024-05-18T07:26:19.963955Z"
    },
    "papermill": {
     "duration": 0.023426,
     "end_time": "2024-05-18T07:26:19.967450",
     "exception": false,
     "start_time": "2024-05-18T07:26:19.944024",
     "status": "completed"
    },
    "tags": []
   },
   "outputs": [],
   "source": [
    "model_names=[]\n",
    "scores=[]\n",
    "\n",
    "def applyModels(classifiers):\n",
    "    for name,model in classifiers.items():\n",
    "        model.fit(x_train,y_train)\n",
    "        score = model.score(x_test,y_test)\n",
    "        model_names.append(name)\n",
    "        scores.append(score)\n",
    "        print(f\"{name} - Score - {score:.2f}\")\n",
    "        "
   ]
  },
  {
   "cell_type": "code",
   "execution_count": 19,
   "id": "1f62db76",
   "metadata": {
    "execution": {
     "iopub.execute_input": "2024-05-18T07:26:19.995330Z",
     "iopub.status.busy": "2024-05-18T07:26:19.994907Z",
     "iopub.status.idle": "2024-05-18T07:26:20.079850Z",
     "shell.execute_reply": "2024-05-18T07:26:20.078554Z"
    },
    "papermill": {
     "duration": 0.103212,
     "end_time": "2024-05-18T07:26:20.083366",
     "exception": false,
     "start_time": "2024-05-18T07:26:19.980154",
     "status": "completed"
    },
    "tags": []
   },
   "outputs": [
    {
     "name": "stdout",
     "output_type": "stream",
     "text": [
      "Logistics Regression - Score - 0.88\n",
      "K Nearest Neighbors Classifier - Score - 0.92\n",
      "Linear SVC - Score - 0.86\n",
      "rbf SVC - Score - 0.91\n",
      "Decision Tree Classifier - Score - 0.89\n",
      "Random Forest Classifier - Score - 0.92\n",
      "Navies Bayes Classifier - Score - 0.91\n"
     ]
    }
   ],
   "source": [
    "applyModels(classifers)"
   ]
  },
  {
   "cell_type": "markdown",
   "id": "5b4cdada",
   "metadata": {
    "papermill": {
     "duration": 0.01189,
     "end_time": "2024-05-18T07:26:20.108293",
     "exception": false,
     "start_time": "2024-05-18T07:26:20.096403",
     "status": "completed"
    },
    "tags": []
   },
   "source": [
    "**We have pretty much good results but K Nearest Neighbors Classifier and Random Forest Classifier have the best and same score**\n"
   ]
  },
  {
   "cell_type": "markdown",
   "id": "fe8c89ca",
   "metadata": {
    "papermill": {
     "duration": 0.011948,
     "end_time": "2024-05-18T07:26:20.132466",
     "exception": false,
     "start_time": "2024-05-18T07:26:20.120518",
     "status": "completed"
    },
    "tags": []
   },
   "source": [
    "# Output and performance metrics"
   ]
  },
  {
   "cell_type": "code",
   "execution_count": 20,
   "id": "c5e4e667",
   "metadata": {
    "execution": {
     "iopub.execute_input": "2024-05-18T07:26:20.159689Z",
     "iopub.status.busy": "2024-05-18T07:26:20.159207Z",
     "iopub.status.idle": "2024-05-18T07:26:20.200028Z",
     "shell.execute_reply": "2024-05-18T07:26:20.198270Z"
    },
    "papermill": {
     "duration": 0.057718,
     "end_time": "2024-05-18T07:26:20.202874",
     "exception": false,
     "start_time": "2024-05-18T07:26:20.145156",
     "status": "completed"
    },
    "tags": []
   },
   "outputs": [
    {
     "name": "stdout",
     "output_type": "stream",
     "text": [
      "K Nearest Neighbors Classifier\n",
      "--------------------------------------------------\n",
      "[[77  7]\n",
      " [ 4 44]]\n",
      "Accuracy :  0.9166666666666666\n",
      "**************************************************\n",
      "Random Forest Classifier\n",
      "--------------------------------------------------\n",
      "[[77  7]\n",
      " [ 4 44]]\n",
      "Accuracy :  0.9166666666666666\n",
      "**************************************************\n"
     ]
    }
   ],
   "source": [
    "from sklearn.metrics import accuracy_score, confusion_matrix\n",
    "\n",
    "knn = classifers['K Nearest Neighbors Classifier']\n",
    "rfc = classifers['Random Forest Classifier']\n",
    "\n",
    "y_pred_knn=knn.predict(x_test)\n",
    "y_pred_rfc=knn.predict(x_test)\n",
    "\n",
    "print('K Nearest Neighbors Classifier')\n",
    "print('-'*50)\n",
    "print(confusion_matrix(y_test,y_pred_knn))\n",
    "score_knn=accuracy_score(y_test,y_pred_knn)\n",
    "print('Accuracy : ',str(score_knn))\n",
    "print('*'*50)\n",
    "print('Random Forest Classifier')\n",
    "print('-'*50)\n",
    "print(confusion_matrix(y_test,y_pred_rfc))\n",
    "score_rfc=accuracy_score(y_test,y_pred_rfc)\n",
    "print('Accuracy : ',str(score_rfc))\n",
    "print('*'*50)\n"
   ]
  },
  {
   "cell_type": "code",
   "execution_count": 21,
   "id": "cdf44bd7",
   "metadata": {
    "execution": {
     "iopub.execute_input": "2024-05-18T07:26:20.231131Z",
     "iopub.status.busy": "2024-05-18T07:26:20.230180Z",
     "iopub.status.idle": "2024-05-18T07:26:20.242889Z",
     "shell.execute_reply": "2024-05-18T07:26:20.241951Z"
    },
    "papermill": {
     "duration": 0.029925,
     "end_time": "2024-05-18T07:26:20.245299",
     "exception": false,
     "start_time": "2024-05-18T07:26:20.215374",
     "status": "completed"
    },
    "tags": []
   },
   "outputs": [
    {
     "data": {
      "text/html": [
       "<div>\n",
       "<style scoped>\n",
       "    .dataframe tbody tr th:only-of-type {\n",
       "        vertical-align: middle;\n",
       "    }\n",
       "\n",
       "    .dataframe tbody tr th {\n",
       "        vertical-align: top;\n",
       "    }\n",
       "\n",
       "    .dataframe thead th {\n",
       "        text-align: right;\n",
       "    }\n",
       "</style>\n",
       "<table border=\"1\" class=\"dataframe\">\n",
       "  <thead>\n",
       "    <tr style=\"text-align: right;\">\n",
       "      <th></th>\n",
       "      <th>Actual Output</th>\n",
       "      <th>KNN output</th>\n",
       "      <th>RFC output</th>\n",
       "    </tr>\n",
       "  </thead>\n",
       "  <tbody>\n",
       "    <tr>\n",
       "      <th>132</th>\n",
       "      <td>0</td>\n",
       "      <td>0</td>\n",
       "      <td>0</td>\n",
       "    </tr>\n",
       "    <tr>\n",
       "      <th>309</th>\n",
       "      <td>0</td>\n",
       "      <td>0</td>\n",
       "      <td>0</td>\n",
       "    </tr>\n",
       "    <tr>\n",
       "      <th>341</th>\n",
       "      <td>0</td>\n",
       "      <td>0</td>\n",
       "      <td>0</td>\n",
       "    </tr>\n",
       "    <tr>\n",
       "      <th>196</th>\n",
       "      <td>0</td>\n",
       "      <td>0</td>\n",
       "      <td>0</td>\n",
       "    </tr>\n",
       "    <tr>\n",
       "      <th>246</th>\n",
       "      <td>0</td>\n",
       "      <td>0</td>\n",
       "      <td>0</td>\n",
       "    </tr>\n",
       "    <tr>\n",
       "      <th>...</th>\n",
       "      <td>...</td>\n",
       "      <td>...</td>\n",
       "      <td>...</td>\n",
       "    </tr>\n",
       "    <tr>\n",
       "      <th>252</th>\n",
       "      <td>1</td>\n",
       "      <td>1</td>\n",
       "      <td>1</td>\n",
       "    </tr>\n",
       "    <tr>\n",
       "      <th>350</th>\n",
       "      <td>1</td>\n",
       "      <td>1</td>\n",
       "      <td>1</td>\n",
       "    </tr>\n",
       "    <tr>\n",
       "      <th>168</th>\n",
       "      <td>1</td>\n",
       "      <td>1</td>\n",
       "      <td>1</td>\n",
       "    </tr>\n",
       "    <tr>\n",
       "      <th>150</th>\n",
       "      <td>0</td>\n",
       "      <td>0</td>\n",
       "      <td>0</td>\n",
       "    </tr>\n",
       "    <tr>\n",
       "      <th>393</th>\n",
       "      <td>1</td>\n",
       "      <td>1</td>\n",
       "      <td>1</td>\n",
       "    </tr>\n",
       "  </tbody>\n",
       "</table>\n",
       "<p>132 rows × 3 columns</p>\n",
       "</div>"
      ],
      "text/plain": [
       "     Actual Output  KNN output  RFC output\n",
       "132              0           0           0\n",
       "309              0           0           0\n",
       "341              0           0           0\n",
       "196              0           0           0\n",
       "246              0           0           0\n",
       "..             ...         ...         ...\n",
       "252              1           1           1\n",
       "350              1           1           1\n",
       "168              1           1           1\n",
       "150              0           0           0\n",
       "393              1           1           1\n",
       "\n",
       "[132 rows x 3 columns]"
      ]
     },
     "execution_count": 21,
     "metadata": {},
     "output_type": "execute_result"
    }
   ],
   "source": [
    "result = pd.DataFrame({\n",
    "    'Actual Output':y_test,\n",
    "    'KNN output':y_pred_knn,\n",
    "    'RFC output':y_pred_rfc\n",
    "})\n",
    "result"
   ]
  },
  {
   "cell_type": "code",
   "execution_count": 22,
   "id": "35060ba4",
   "metadata": {
    "execution": {
     "iopub.execute_input": "2024-05-18T07:26:20.273778Z",
     "iopub.status.busy": "2024-05-18T07:26:20.273344Z",
     "iopub.status.idle": "2024-05-18T07:26:20.288918Z",
     "shell.execute_reply": "2024-05-18T07:26:20.287533Z"
    },
    "papermill": {
     "duration": 0.033116,
     "end_time": "2024-05-18T07:26:20.291497",
     "exception": false,
     "start_time": "2024-05-18T07:26:20.258381",
     "status": "completed"
    },
    "tags": []
   },
   "outputs": [
    {
     "data": {
      "text/html": [
       "<div>\n",
       "<style scoped>\n",
       "    .dataframe tbody tr th:only-of-type {\n",
       "        vertical-align: middle;\n",
       "    }\n",
       "\n",
       "    .dataframe tbody tr th {\n",
       "        vertical-align: top;\n",
       "    }\n",
       "\n",
       "    .dataframe thead th {\n",
       "        text-align: right;\n",
       "    }\n",
       "</style>\n",
       "<table border=\"1\" class=\"dataframe\">\n",
       "  <thead>\n",
       "    <tr style=\"text-align: right;\">\n",
       "      <th></th>\n",
       "      <th>Age</th>\n",
       "      <th>Salary</th>\n",
       "      <th>Male</th>\n",
       "    </tr>\n",
       "  </thead>\n",
       "  <tbody>\n",
       "    <tr>\n",
       "      <th>0</th>\n",
       "      <td>30.0</td>\n",
       "      <td>87000.0</td>\n",
       "      <td>1.0</td>\n",
       "    </tr>\n",
       "    <tr>\n",
       "      <th>1</th>\n",
       "      <td>38.0</td>\n",
       "      <td>50000.0</td>\n",
       "      <td>0.0</td>\n",
       "    </tr>\n",
       "    <tr>\n",
       "      <th>2</th>\n",
       "      <td>35.0</td>\n",
       "      <td>75000.0</td>\n",
       "      <td>1.0</td>\n",
       "    </tr>\n",
       "    <tr>\n",
       "      <th>3</th>\n",
       "      <td>30.0</td>\n",
       "      <td>79000.0</td>\n",
       "      <td>0.0</td>\n",
       "    </tr>\n",
       "    <tr>\n",
       "      <th>4</th>\n",
       "      <td>35.0</td>\n",
       "      <td>50000.0</td>\n",
       "      <td>0.0</td>\n",
       "    </tr>\n",
       "  </tbody>\n",
       "</table>\n",
       "</div>"
      ],
      "text/plain": [
       "    Age   Salary  Male\n",
       "0  30.0  87000.0   1.0\n",
       "1  38.0  50000.0   0.0\n",
       "2  35.0  75000.0   1.0\n",
       "3  30.0  79000.0   0.0\n",
       "4  35.0  50000.0   0.0"
      ]
     },
     "execution_count": 22,
     "metadata": {},
     "output_type": "execute_result"
    }
   ],
   "source": [
    "testData=sc.inverse_transform(x_test)\n",
    "test=pd.DataFrame(testData,columns=['Age','Salary','Male'])\n",
    "test.head()"
   ]
  },
  {
   "cell_type": "code",
   "execution_count": 23,
   "id": "1699c74f",
   "metadata": {
    "execution": {
     "iopub.execute_input": "2024-05-18T07:26:20.320283Z",
     "iopub.status.busy": "2024-05-18T07:26:20.319894Z",
     "iopub.status.idle": "2024-05-18T07:26:20.359718Z",
     "shell.execute_reply": "2024-05-18T07:26:20.358138Z"
    },
    "papermill": {
     "duration": 0.057977,
     "end_time": "2024-05-18T07:26:20.362760",
     "exception": false,
     "start_time": "2024-05-18T07:26:20.304783",
     "status": "completed"
    },
    "tags": []
   },
   "outputs": [
    {
     "data": {
      "text/html": [
       "<div>\n",
       "<style scoped>\n",
       "    .dataframe tbody tr th:only-of-type {\n",
       "        vertical-align: middle;\n",
       "    }\n",
       "\n",
       "    .dataframe tbody tr th {\n",
       "        vertical-align: top;\n",
       "    }\n",
       "\n",
       "    .dataframe thead th {\n",
       "        text-align: right;\n",
       "    }\n",
       "</style>\n",
       "<table border=\"1\" class=\"dataframe\">\n",
       "  <thead>\n",
       "    <tr style=\"text-align: right;\">\n",
       "      <th></th>\n",
       "      <th>Age</th>\n",
       "      <th>Salary</th>\n",
       "      <th>Male</th>\n",
       "      <th>Actual Output</th>\n",
       "      <th>KNN output</th>\n",
       "      <th>RFC output</th>\n",
       "    </tr>\n",
       "  </thead>\n",
       "  <tbody>\n",
       "    <tr>\n",
       "      <th>1</th>\n",
       "      <td>38.0</td>\n",
       "      <td>50000.0</td>\n",
       "      <td>0.0</td>\n",
       "      <td>0</td>\n",
       "      <td>0</td>\n",
       "      <td>0</td>\n",
       "    </tr>\n",
       "    <tr>\n",
       "      <th>4</th>\n",
       "      <td>35.0</td>\n",
       "      <td>50000.0</td>\n",
       "      <td>0.0</td>\n",
       "      <td>0</td>\n",
       "      <td>0</td>\n",
       "      <td>0</td>\n",
       "    </tr>\n",
       "    <tr>\n",
       "      <th>5</th>\n",
       "      <td>27.0</td>\n",
       "      <td>20000.0</td>\n",
       "      <td>1.0</td>\n",
       "      <td>0</td>\n",
       "      <td>0</td>\n",
       "      <td>0</td>\n",
       "    </tr>\n",
       "    <tr>\n",
       "      <th>6</th>\n",
       "      <td>31.0</td>\n",
       "      <td>15000.0</td>\n",
       "      <td>0.0</td>\n",
       "      <td>0</td>\n",
       "      <td>0</td>\n",
       "      <td>0</td>\n",
       "    </tr>\n",
       "    <tr>\n",
       "      <th>7</th>\n",
       "      <td>36.0</td>\n",
       "      <td>144000.0</td>\n",
       "      <td>1.0</td>\n",
       "      <td>1</td>\n",
       "      <td>1</td>\n",
       "      <td>1</td>\n",
       "    </tr>\n",
       "    <tr>\n",
       "      <th>8</th>\n",
       "      <td>18.0</td>\n",
       "      <td>68000.0</td>\n",
       "      <td>0.0</td>\n",
       "      <td>0</td>\n",
       "      <td>0</td>\n",
       "      <td>0</td>\n",
       "    </tr>\n",
       "    <tr>\n",
       "      <th>10</th>\n",
       "      <td>30.0</td>\n",
       "      <td>49000.0</td>\n",
       "      <td>1.0</td>\n",
       "      <td>0</td>\n",
       "      <td>0</td>\n",
       "      <td>0</td>\n",
       "    </tr>\n",
       "    <tr>\n",
       "      <th>12</th>\n",
       "      <td>37.0</td>\n",
       "      <td>55000.0</td>\n",
       "      <td>1.0</td>\n",
       "      <td>0</td>\n",
       "      <td>0</td>\n",
       "      <td>0</td>\n",
       "    </tr>\n",
       "    <tr>\n",
       "      <th>14</th>\n",
       "      <td>20.0</td>\n",
       "      <td>86000.0</td>\n",
       "      <td>1.0</td>\n",
       "      <td>0</td>\n",
       "      <td>0</td>\n",
       "      <td>0</td>\n",
       "    </tr>\n",
       "    <tr>\n",
       "      <th>15</th>\n",
       "      <td>32.0</td>\n",
       "      <td>117000.0</td>\n",
       "      <td>0.0</td>\n",
       "      <td>0</td>\n",
       "      <td>0</td>\n",
       "      <td>0</td>\n",
       "    </tr>\n",
       "    <tr>\n",
       "      <th>20</th>\n",
       "      <td>35.0</td>\n",
       "      <td>47000.0</td>\n",
       "      <td>0.0</td>\n",
       "      <td>1</td>\n",
       "      <td>1</td>\n",
       "      <td>1</td>\n",
       "    </tr>\n",
       "    <tr>\n",
       "      <th>21</th>\n",
       "      <td>47.0</td>\n",
       "      <td>144000.0</td>\n",
       "      <td>0.0</td>\n",
       "      <td>1</td>\n",
       "      <td>1</td>\n",
       "      <td>1</td>\n",
       "    </tr>\n",
       "    <tr>\n",
       "      <th>22</th>\n",
       "      <td>41.0</td>\n",
       "      <td>51000.0</td>\n",
       "      <td>0.0</td>\n",
       "      <td>1</td>\n",
       "      <td>1</td>\n",
       "      <td>1</td>\n",
       "    </tr>\n",
       "    <tr>\n",
       "      <th>26</th>\n",
       "      <td>28.0</td>\n",
       "      <td>87000.0</td>\n",
       "      <td>0.0</td>\n",
       "      <td>1</td>\n",
       "      <td>1</td>\n",
       "      <td>1</td>\n",
       "    </tr>\n",
       "    <tr>\n",
       "      <th>37</th>\n",
       "      <td>34.0</td>\n",
       "      <td>43000.0</td>\n",
       "      <td>0.0</td>\n",
       "      <td>0</td>\n",
       "      <td>0</td>\n",
       "      <td>0</td>\n",
       "    </tr>\n",
       "    <tr>\n",
       "      <th>45</th>\n",
       "      <td>27.0</td>\n",
       "      <td>58000.0</td>\n",
       "      <td>0.0</td>\n",
       "      <td>0</td>\n",
       "      <td>0</td>\n",
       "      <td>0</td>\n",
       "    </tr>\n",
       "    <tr>\n",
       "      <th>49</th>\n",
       "      <td>49.0</td>\n",
       "      <td>86000.0</td>\n",
       "      <td>1.0</td>\n",
       "      <td>0</td>\n",
       "      <td>0</td>\n",
       "      <td>0</td>\n",
       "    </tr>\n",
       "    <tr>\n",
       "      <th>52</th>\n",
       "      <td>35.0</td>\n",
       "      <td>57000.0</td>\n",
       "      <td>0.0</td>\n",
       "      <td>0</td>\n",
       "      <td>0</td>\n",
       "      <td>0</td>\n",
       "    </tr>\n",
       "    <tr>\n",
       "      <th>54</th>\n",
       "      <td>59.0</td>\n",
       "      <td>88000.0</td>\n",
       "      <td>0.0</td>\n",
       "      <td>0</td>\n",
       "      <td>0</td>\n",
       "      <td>0</td>\n",
       "    </tr>\n",
       "    <tr>\n",
       "      <th>55</th>\n",
       "      <td>45.0</td>\n",
       "      <td>32000.0</td>\n",
       "      <td>1.0</td>\n",
       "      <td>0</td>\n",
       "      <td>0</td>\n",
       "      <td>0</td>\n",
       "    </tr>\n",
       "    <tr>\n",
       "      <th>56</th>\n",
       "      <td>29.0</td>\n",
       "      <td>83000.0</td>\n",
       "      <td>0.0</td>\n",
       "      <td>0</td>\n",
       "      <td>0</td>\n",
       "      <td>0</td>\n",
       "    </tr>\n",
       "    <tr>\n",
       "      <th>59</th>\n",
       "      <td>23.0</td>\n",
       "      <td>20000.0</td>\n",
       "      <td>1.0</td>\n",
       "      <td>0</td>\n",
       "      <td>1</td>\n",
       "      <td>1</td>\n",
       "    </tr>\n",
       "    <tr>\n",
       "      <th>60</th>\n",
       "      <td>32.0</td>\n",
       "      <td>18000.0</td>\n",
       "      <td>1.0</td>\n",
       "      <td>0</td>\n",
       "      <td>0</td>\n",
       "      <td>0</td>\n",
       "    </tr>\n",
       "    <tr>\n",
       "      <th>63</th>\n",
       "      <td>36.0</td>\n",
       "      <td>99000.0</td>\n",
       "      <td>1.0</td>\n",
       "      <td>1</td>\n",
       "      <td>1</td>\n",
       "      <td>1</td>\n",
       "    </tr>\n",
       "    <tr>\n",
       "      <th>64</th>\n",
       "      <td>19.0</td>\n",
       "      <td>26000.0</td>\n",
       "      <td>0.0</td>\n",
       "      <td>0</td>\n",
       "      <td>1</td>\n",
       "      <td>1</td>\n",
       "    </tr>\n",
       "    <tr>\n",
       "      <th>65</th>\n",
       "      <td>60.0</td>\n",
       "      <td>83000.0</td>\n",
       "      <td>1.0</td>\n",
       "      <td>0</td>\n",
       "      <td>0</td>\n",
       "      <td>0</td>\n",
       "    </tr>\n",
       "    <tr>\n",
       "      <th>68</th>\n",
       "      <td>40.0</td>\n",
       "      <td>47000.0</td>\n",
       "      <td>1.0</td>\n",
       "      <td>0</td>\n",
       "      <td>0</td>\n",
       "      <td>0</td>\n",
       "    </tr>\n",
       "    <tr>\n",
       "      <th>74</th>\n",
       "      <td>27.0</td>\n",
       "      <td>89000.0</td>\n",
       "      <td>1.0</td>\n",
       "      <td>0</td>\n",
       "      <td>0</td>\n",
       "      <td>0</td>\n",
       "    </tr>\n",
       "    <tr>\n",
       "      <th>76</th>\n",
       "      <td>42.0</td>\n",
       "      <td>79000.0</td>\n",
       "      <td>0.0</td>\n",
       "      <td>0</td>\n",
       "      <td>0</td>\n",
       "      <td>0</td>\n",
       "    </tr>\n",
       "    <tr>\n",
       "      <th>78</th>\n",
       "      <td>53.0</td>\n",
       "      <td>34000.0</td>\n",
       "      <td>0.0</td>\n",
       "      <td>0</td>\n",
       "      <td>0</td>\n",
       "      <td>0</td>\n",
       "    </tr>\n",
       "    <tr>\n",
       "      <th>81</th>\n",
       "      <td>59.0</td>\n",
       "      <td>83000.0</td>\n",
       "      <td>0.0</td>\n",
       "      <td>0</td>\n",
       "      <td>0</td>\n",
       "      <td>0</td>\n",
       "    </tr>\n",
       "    <tr>\n",
       "      <th>89</th>\n",
       "      <td>41.0</td>\n",
       "      <td>60000.0</td>\n",
       "      <td>0.0</td>\n",
       "      <td>0</td>\n",
       "      <td>0</td>\n",
       "      <td>0</td>\n",
       "    </tr>\n",
       "    <tr>\n",
       "      <th>90</th>\n",
       "      <td>42.0</td>\n",
       "      <td>64000.0</td>\n",
       "      <td>1.0</td>\n",
       "      <td>0</td>\n",
       "      <td>0</td>\n",
       "      <td>0</td>\n",
       "    </tr>\n",
       "    <tr>\n",
       "      <th>92</th>\n",
       "      <td>23.0</td>\n",
       "      <td>48000.0</td>\n",
       "      <td>0.0</td>\n",
       "      <td>0</td>\n",
       "      <td>0</td>\n",
       "      <td>0</td>\n",
       "    </tr>\n",
       "    <tr>\n",
       "      <th>96</th>\n",
       "      <td>23.0</td>\n",
       "      <td>63000.0</td>\n",
       "      <td>1.0</td>\n",
       "      <td>0</td>\n",
       "      <td>0</td>\n",
       "      <td>0</td>\n",
       "    </tr>\n",
       "    <tr>\n",
       "      <th>100</th>\n",
       "      <td>44.0</td>\n",
       "      <td>39000.0</td>\n",
       "      <td>0.0</td>\n",
       "      <td>0</td>\n",
       "      <td>0</td>\n",
       "      <td>0</td>\n",
       "    </tr>\n",
       "    <tr>\n",
       "      <th>102</th>\n",
       "      <td>38.0</td>\n",
       "      <td>50000.0</td>\n",
       "      <td>0.0</td>\n",
       "      <td>0</td>\n",
       "      <td>0</td>\n",
       "      <td>0</td>\n",
       "    </tr>\n",
       "    <tr>\n",
       "      <th>106</th>\n",
       "      <td>39.0</td>\n",
       "      <td>42000.0</td>\n",
       "      <td>1.0</td>\n",
       "      <td>0</td>\n",
       "      <td>0</td>\n",
       "      <td>0</td>\n",
       "    </tr>\n",
       "    <tr>\n",
       "      <th>107</th>\n",
       "      <td>38.0</td>\n",
       "      <td>61000.0</td>\n",
       "      <td>1.0</td>\n",
       "      <td>0</td>\n",
       "      <td>0</td>\n",
       "      <td>0</td>\n",
       "    </tr>\n",
       "    <tr>\n",
       "      <th>113</th>\n",
       "      <td>47.0</td>\n",
       "      <td>49000.0</td>\n",
       "      <td>0.0</td>\n",
       "      <td>0</td>\n",
       "      <td>0</td>\n",
       "      <td>0</td>\n",
       "    </tr>\n",
       "    <tr>\n",
       "      <th>122</th>\n",
       "      <td>38.0</td>\n",
       "      <td>112000.0</td>\n",
       "      <td>0.0</td>\n",
       "      <td>0</td>\n",
       "      <td>0</td>\n",
       "      <td>0</td>\n",
       "    </tr>\n",
       "    <tr>\n",
       "      <th>124</th>\n",
       "      <td>42.0</td>\n",
       "      <td>53000.0</td>\n",
       "      <td>0.0</td>\n",
       "      <td>0</td>\n",
       "      <td>0</td>\n",
       "      <td>0</td>\n",
       "    </tr>\n",
       "  </tbody>\n",
       "</table>\n",
       "</div>"
      ],
      "text/plain": [
       "      Age    Salary  Male  Actual Output  KNN output  RFC output\n",
       "1    38.0   50000.0   0.0              0           0           0\n",
       "4    35.0   50000.0   0.0              0           0           0\n",
       "5    27.0   20000.0   1.0              0           0           0\n",
       "6    31.0   15000.0   0.0              0           0           0\n",
       "7    36.0  144000.0   1.0              1           1           1\n",
       "8    18.0   68000.0   0.0              0           0           0\n",
       "10   30.0   49000.0   1.0              0           0           0\n",
       "12   37.0   55000.0   1.0              0           0           0\n",
       "14   20.0   86000.0   1.0              0           0           0\n",
       "15   32.0  117000.0   0.0              0           0           0\n",
       "20   35.0   47000.0   0.0              1           1           1\n",
       "21   47.0  144000.0   0.0              1           1           1\n",
       "22   41.0   51000.0   0.0              1           1           1\n",
       "26   28.0   87000.0   0.0              1           1           1\n",
       "37   34.0   43000.0   0.0              0           0           0\n",
       "45   27.0   58000.0   0.0              0           0           0\n",
       "49   49.0   86000.0   1.0              0           0           0\n",
       "52   35.0   57000.0   0.0              0           0           0\n",
       "54   59.0   88000.0   0.0              0           0           0\n",
       "55   45.0   32000.0   1.0              0           0           0\n",
       "56   29.0   83000.0   0.0              0           0           0\n",
       "59   23.0   20000.0   1.0              0           1           1\n",
       "60   32.0   18000.0   1.0              0           0           0\n",
       "63   36.0   99000.0   1.0              1           1           1\n",
       "64   19.0   26000.0   0.0              0           1           1\n",
       "65   60.0   83000.0   1.0              0           0           0\n",
       "68   40.0   47000.0   1.0              0           0           0\n",
       "74   27.0   89000.0   1.0              0           0           0\n",
       "76   42.0   79000.0   0.0              0           0           0\n",
       "78   53.0   34000.0   0.0              0           0           0\n",
       "81   59.0   83000.0   0.0              0           0           0\n",
       "89   41.0   60000.0   0.0              0           0           0\n",
       "90   42.0   64000.0   1.0              0           0           0\n",
       "92   23.0   48000.0   0.0              0           0           0\n",
       "96   23.0   63000.0   1.0              0           0           0\n",
       "100  44.0   39000.0   0.0              0           0           0\n",
       "102  38.0   50000.0   0.0              0           0           0\n",
       "106  39.0   42000.0   1.0              0           0           0\n",
       "107  38.0   61000.0   1.0              0           0           0\n",
       "113  47.0   49000.0   0.0              0           0           0\n",
       "122  38.0  112000.0   0.0              0           0           0\n",
       "124  42.0   53000.0   0.0              0           0           0"
      ]
     },
     "execution_count": 23,
     "metadata": {},
     "output_type": "execute_result"
    }
   ],
   "source": [
    "compare_output=test.merge(result,left_index=True,right_index=True)\n",
    "compare_output"
   ]
  }
 ],
 "metadata": {
  "kaggle": {
   "accelerator": "none",
   "dataSources": [
    {
     "datasetId": 1447382,
     "sourceId": 2393931,
     "sourceType": "datasetVersion"
    }
   ],
   "dockerImageVersionId": 30698,
   "isGpuEnabled": false,
   "isInternetEnabled": true,
   "language": "python",
   "sourceType": "notebook"
  },
  "kernelspec": {
   "display_name": "Python 3",
   "language": "python",
   "name": "python3"
  },
  "language_info": {
   "codemirror_mode": {
    "name": "ipython",
    "version": 3
   },
   "file_extension": ".py",
   "mimetype": "text/x-python",
   "name": "python",
   "nbconvert_exporter": "python",
   "pygments_lexer": "ipython3",
   "version": "3.10.13"
  },
  "papermill": {
   "default_parameters": {},
   "duration": 8.94509,
   "end_time": "2024-05-18T07:26:21.405860",
   "environment_variables": {},
   "exception": null,
   "input_path": "__notebook__.ipynb",
   "output_path": "__notebook__.ipynb",
   "parameters": {},
   "start_time": "2024-05-18T07:26:12.460770",
   "version": "2.5.0"
  }
 },
 "nbformat": 4,
 "nbformat_minor": 5
}
